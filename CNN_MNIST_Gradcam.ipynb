{
 "cells": [
  {
   "cell_type": "code",
   "execution_count": 1,
   "id": "45dfa48c",
   "metadata": {},
   "outputs": [],
   "source": [
    "import time\n",
    "import torch\n",
    "import torch.nn as nn\n",
    "import torch.nn.functional as F\n",
    "from torch.utils.data import DataLoader\n",
    "from torchvision import datasets,transforms\n",
    "import matplotlib.pyplot as plt\n",
    "%matplotlib inline\n"
   ]
  },
  {
   "cell_type": "code",
   "execution_count": 2,
   "id": "bd2b8203",
   "metadata": {},
   "outputs": [],
   "source": [
    "device=torch.device(\"cuda\" if torch.cuda.is_available() else \"cpu\")\n"
   ]
  },
  {
   "cell_type": "code",
   "execution_count": 3,
   "id": "5f5e466a",
   "metadata": {},
   "outputs": [],
   "source": [
    "torch.backends.cudnn.benchmark=True\n",
    "PIN=device.type==\"cuda\""
   ]
  },
  {
   "cell_type": "code",
   "execution_count": 4,
   "id": "b5c61fa9",
   "metadata": {},
   "outputs": [],
   "source": [
    "class CNNModel(nn.Module):\n",
    "    def __init__(self):\n",
    "        super().__init__()\n",
    "        self.conv1 = nn.Conv2d(1, 32, 3, 1, 1)\n",
    "        self.pool1 = nn.MaxPool2d(2, 2)\n",
    "        self.conv2 = nn.Conv2d(32, 64, 3, 1, 1)\n",
    "        self.pool2 = nn.MaxPool2d(2, 2)\n",
    "        self.fc1   = nn.Linear(64*7*7, 128)\n",
    "        self.fc2   = nn.Linear(128, 10)\n",
    "    def forward(self, x):\n",
    "        x = self.pool1(F.relu(self.conv1(x)))\n",
    "        x = self.pool2(F.relu(self.conv2(x)))\n",
    "        x = torch.flatten(x, 1)\n",
    "        x = F.relu(self.fc1(x))\n",
    "        return self.fc2(x)\n"
   ]
  },
  {
   "cell_type": "code",
   "execution_count": 5,
   "id": "b1885b0a",
   "metadata": {},
   "outputs": [],
   "source": [
    "transform=transforms.Compose([transforms.ToTensor()])\n",
    "train_dts=datasets.MNIST(root=\"../Data\",train=True,download=True,transform=transform)\n",
    "test_dts=datasets.MNIST(root=\"../Data\",train=False,download=True,transform=transform)\n",
    "train_load=DataLoader(train_dts,batch_size=256,shuffle=True,num_workers=4,pin_memory=PIN,persistent_workers=True)\n",
    "test_load=DataLoader(test_dts,batch_size=512,shuffle=False,num_workers=4,pin_memory=PIN,persistent_workers=True)\n"
   ]
  },
  {
   "cell_type": "code",
   "execution_count": 6,
   "id": "c99644c0",
   "metadata": {},
   "outputs": [
    {
     "name": "stdout",
     "output_type": "stream",
     "text": [
      "CNNModel(\n",
      "  (conv1): Conv2d(1, 32, kernel_size=(3, 3), stride=(1, 1), padding=(1, 1))\n",
      "  (pool1): MaxPool2d(kernel_size=2, stride=2, padding=0, dilation=1, ceil_mode=False)\n",
      "  (conv2): Conv2d(32, 64, kernel_size=(3, 3), stride=(1, 1), padding=(1, 1))\n",
      "  (pool2): MaxPool2d(kernel_size=2, stride=2, padding=0, dilation=1, ceil_mode=False)\n",
      "  (fc1): Linear(in_features=3136, out_features=128, bias=True)\n",
      "  (fc2): Linear(in_features=128, out_features=10, bias=True)\n",
      ")\n",
      "CrossEntropyLoss()\n",
      "AdamW (\n",
      "Parameter Group 0\n",
      "    amsgrad: False\n",
      "    betas: (0.9, 0.999)\n",
      "    capturable: False\n",
      "    differentiable: False\n",
      "    eps: 1e-08\n",
      "    foreach: None\n",
      "    fused: None\n",
      "    lr: 0.001\n",
      "    maximize: False\n",
      "    weight_decay: 0.01\n",
      ")\n",
      "<torch.amp.grad_scaler.GradScaler object at 0x000001D624EB4D70>\n"
     ]
    }
   ],
   "source": [
    "from torch.amp import autocast, GradScaler\n",
    "\n",
    "model = CNNModel().to(device)\n",
    "criterion = nn.CrossEntropyLoss()\n",
    "optimizer = torch.optim.AdamW(model.parameters(), lr=1e-3)  \n",
    "scaler = GradScaler(\"cuda\")\n",
    "print(model)\n",
    "print(criterion)\n",
    "print(optimizer)\n",
    "print(scaler)"
   ]
  },
  {
   "cell_type": "code",
   "execution_count": 7,
   "id": "e3d92721",
   "metadata": {},
   "outputs": [
    {
     "name": "stdout",
     "output_type": "stream",
     "text": [
      "Epoch 01 | 8.4s | train loss 0.3326 acc 0.9033 | test  loss 0.0907 acc 0.9727\n",
      "Epoch 02 | 1.4s | train loss 0.0759 acc 0.9776 | test  loss 0.0550 acc 0.9825\n",
      "Epoch 03 | 1.4s | train loss 0.0525 acc 0.9837 | test  loss 0.0580 acc 0.9816\n",
      "Epoch 04 | 1.4s | train loss 0.0394 acc 0.9881 | test  loss 0.0427 acc 0.9868\n",
      "Epoch 05 | 1.4s | train loss 0.0328 acc 0.9898 | test  loss 0.0363 acc 0.9871\n",
      "Epoch 06 | 1.3s | train loss 0.0258 acc 0.9920 | test  loss 0.0318 acc 0.9886\n",
      "Epoch 07 | 1.3s | train loss 0.0225 acc 0.9929 | test  loss 0.0352 acc 0.9889\n",
      "Epoch 08 | 1.3s | train loss 0.0182 acc 0.9943 | test  loss 0.0335 acc 0.9896\n",
      "Epoch 09 | 1.3s | train loss 0.0161 acc 0.9948 | test  loss 0.0328 acc 0.9896\n",
      "Epoch 10 | 1.3s | train loss 0.0140 acc 0.9954 | test  loss 0.0267 acc 0.9907\n"
     ]
    }
   ],
   "source": [
    "import time\n",
    "from torch.amp import autocast, GradScaler\n",
    "\n",
    "scaler = GradScaler(\"cuda\")  # PyTorch 2.1+ style\n",
    "\n",
    "epochs = 10\n",
    "for epoch in range(1, epochs + 1):\n",
    "  \n",
    "    model.train()\n",
    "    epoch_loss = 0.0\n",
    "    correct = 0\n",
    "    n = 0\n",
    "    t0 = time.perf_counter()\n",
    "\n",
    "    for x_batch, y_batch in train_load:\n",
    "        x_batch = x_batch.to(device, non_blocking=True)\n",
    "        y_batch = y_batch.to(device, non_blocking=True).long()\n",
    "\n",
    "        optimizer.zero_grad(set_to_none=True)\n",
    "\n",
    "        \n",
    "        with autocast(\"cuda\"):\n",
    "            logits = model(x_batch)\n",
    "            loss = criterion(logits, y_batch)\n",
    "\n",
    "        scaler.scale(loss).backward()\n",
    "        scaler.step(optimizer)\n",
    "        scaler.update()\n",
    "\n",
    "        \n",
    "        bs = x_batch.size(0)\n",
    "        epoch_loss += loss.item() * bs\n",
    "        correct += (logits.argmax(1) == y_batch).sum().item()\n",
    "        n += bs\n",
    "\n",
    "    train_loss = epoch_loss / n\n",
    "    train_acc = correct / n\n",
    "\n",
    "  \n",
    "    model.eval()\n",
    "    test_loss = 0.0\n",
    "    correct_t = 0\n",
    "    n_t = 0\n",
    "    with torch.no_grad(), autocast(\"cuda\"):\n",
    "        for x_batch, y_batch in test_load:\n",
    "            x_batch = x_batch.to(device, non_blocking=True)\n",
    "            y_batch = y_batch.to(device, non_blocking=True).long()\n",
    "\n",
    "            logits = model(x_batch)\n",
    "            loss = criterion(logits, y_batch)\n",
    "\n",
    "            bs = x_batch.size(0)\n",
    "            test_loss += loss.item() * bs\n",
    "            correct_t += (logits.argmax(1) == y_batch).sum().item()\n",
    "            n_t += bs\n",
    "\n",
    "    test_loss /= n_t\n",
    "    test_acc = correct_t / n_t\n",
    "\n",
    "    dt = time.perf_counter() - t0\n",
    "    print(f\"Epoch {epoch:02d} | {dt:.1f}s | \"\n",
    "          f\"train loss {train_loss:.4f} acc {train_acc:.4f} | \"\n",
    "          f\"test  loss {test_loss:.4f} acc {test_acc:.4f}\")\n"
   ]
  },
  {
   "cell_type": "code",
   "execution_count": 8,
   "id": "b531994b",
   "metadata": {},
   "outputs": [
    {
     "data": {
      "image/png": "[encoded data removed]",
      "text/plain": [
       "<Figure size 800x800 with 2 Axes>"
      ]
     },
     "metadata": {},
     "output_type": "display_data"
    }
   ],
   "source": [
    "import torch\n",
    "import numpy as np\n",
    "import matplotlib.pyplot as plt\n",
    "from sklearn.metrics import confusion_matrix, ConfusionMatrixDisplay\n",
    "model.eval()\n",
    "all_preds = []\n",
    "all_labels = []\n",
    "\n",
    "with torch.no_grad():\n",
    "    for xb, yb in test_load:\n",
    "        xb = xb.to(device)\n",
    "        yb = yb.to(device)\n",
    "\n",
    "        logits = model(xb)\n",
    "        preds = logits.argmax(1)\n",
    "\n",
    "        all_preds.append(preds.cpu().numpy())\n",
    "        all_labels.append(yb.cpu().numpy())\n",
    "\n",
    "\n",
    "y_pred = np.concatenate(all_preds)\n",
    "y_true = np.concatenate(all_labels)\n",
    "\n",
    "\n",
    "cm = confusion_matrix(y_true, y_pred)\n",
    "disp = ConfusionMatrixDisplay(confusion_matrix=cm, display_labels=list(range(10)))\n",
    "\n",
    "\n",
    "fig, ax = plt.subplots(figsize=(8, 8))\n",
    "disp.plot(ax=ax, cmap=\"Reds\", colorbar=True)\n",
    "plt.title(\"Confusion Matrix for MNIST CNN\")\n",
    "plt.show()"
   ]
  },
  {
   "cell_type": "code",
   "execution_count": 9,
   "id": "5b9ab299",
   "metadata": {},
   "outputs": [],
   "source": [
    "import torch\n",
    "import torch.nn.functional as F\n",
    "import numpy as np\n",
    "import matplotlib.pyplot as plt\n",
    "\n",
    "\n",
    "\n",
    "import torch\n",
    "import torch.nn.functional as F\n",
    "import numpy as np\n",
    "import matplotlib.pyplot as plt\n",
    "\n",
    "def grad_cam(model, image, target_class, target_layer):\n",
    "    model.eval()\n",
    "    \n",
    "   \n",
    "    activations = {}\n",
    "    gradients = {}\n",
    "    \n",
    "    def forward_hook(module, inp, out):\n",
    "        activations['value'] = out.detach()\n",
    "    def backward_hook(module, grad_in, grad_out):\n",
    "        gradients['value'] = grad_out[0].detach()\n",
    "    \n",
    "    \n",
    "    handle_f = target_layer.register_forward_hook(forward_hook)\n",
    "    handle_b = target_layer.register_backward_hook(backward_hook)\n",
    "    \n",
    "  \n",
    "    image = image.unsqueeze(0)  \n",
    "    image = image.to(next(model.parameters()).device)\n",
    "    output = model(image)\n",
    "    pred_class = output.argmax(1).item()\n",
    "    \n",
    "   \n",
    "    model.zero_grad()\n",
    "    loss = output[0, target_class]\n",
    "    loss.backward()\n",
    "    \n",
    "   \n",
    "    act = activations['value']\n",
    "    grad=gradients[\"value\"]        \n",
    "    weights = grad.mean(dim=(2,3), keepdim=True)  \n",
    "    cam = (weights * act).sum(1, keepdim=True)    \n",
    "    cam = F.relu(cam)\n",
    "    \n",
    "   \n",
    "    \n",
    "    cam = cam.squeeze().cpu().numpy()\n",
    "    cam = (cam - cam.min()) / (cam.max() - cam.min() + 1e-6)\n",
    "    \n",
    "    # Clean up hooks\n",
    "    handle_f.remove()\n",
    "    handle_b.remove()\n",
    "    \n",
    "    return cam, pred_class"
   ]
  },
  {
   "cell_type": "code",
   "execution_count": 10,
   "id": "cbf8d343",
   "metadata": {},
   "outputs": [
    {
     "name": "stderr",
     "output_type": "stream",
     "text": [
      "c:\\venvs\\cuda_env\\Lib\\site-packages\\torch\\nn\\modules\\module.py:1830: FutureWarning: Using a non-full backward hook when the forward contains multiple autograd Nodes is deprecated and will be removed in future versions. This hook will be missing some grad_input. Please use register_full_backward_hook to get the documented behavior.\n",
      "  self._maybe_warn_non_full_backward_hook(args, result, grad_fn)\n"
     ]
    },
    {
     "data": {
      "image/png": "[encoded data removed]",
      "text/plain": [
       "<Figure size 640x480 with 2 Axes>"
      ]
     },
     "metadata": {},
     "output_type": "display_data"
    }
   ],
   "source": [
    "img,label=test_dts[0]\n",
    "cam,pred=grad_cam(model,img,target_class=label,target_layer=model.conv2)\n",
    "\n",
    "plt.subplot(1,2,1)\n",
    "plt.imshow(img.squeeze(),cmap=\"gray\")\n",
    "plt.title(f\"True{label},Pred : {pred}\")\n",
    "\n",
    "\n",
    "plt.subplot(1,2,2)\n",
    "plt.imshow(img.squeeze(),cmap=\"gray\")\n",
    "plt.imshow(cam, cmap=\"jet\", alpha=0.5)\n",
    "plt.title(\"Grad Cam\")\n",
    "plt.show()"
   ]
  },
  {
   "cell_type": "code",
   "execution_count": null,
   "id": "7a0e6f93",
   "metadata": {},
   "outputs": [],
   "source": []
  }
 ],
 "metadata": {
  "kernelspec": {
   "display_name": "Python (CUDA Env)",
   "language": "python",
   "name": "cuda_env"
  },
  "language_info": {
   "codemirror_mode": {
    "name": "ipython",
    "version": 3
   },
   "file_extension": ".py",
   "mimetype": "text/x-python",
   "name": "python",
   "nbconvert_exporter": "python",
   "pygments_lexer": "ipython3",
   "version": "3.13.7"
  }
 },
 "nbformat": 4,
 "nbformat_minor": 5
}
